{
 "cells": [
  {
   "cell_type": "code",
   "execution_count": 217,
   "id": "7e4bff20",
   "metadata": {},
   "outputs": [],
   "source": [
    "import time\n",
    "import selenium\n",
    "import re\n",
    "from selenium import webdriver\n",
    "from selenium.webdriver.common.by import By\n",
    "from selenium.webdriver.support.ui import WebDriverWait\n",
    "from selenium.webdriver.support import expected_conditions as EC\n",
    "from selenium.webdriver.common.keys import Keys\n",
    "import pandas as pd\n",
    "from bs4 import BeautifulSoup"
   ]
  },
  {
   "cell_type": "code",
   "execution_count": 218,
   "id": "aabc80b9",
   "metadata": {},
   "outputs": [
    {
     "name": "stderr",
     "output_type": "stream",
     "text": [
      "<ipython-input-218-3f92535c707a>:2: DeprecationWarning: executable_path has been deprecated, please pass in a Service object\n",
      "  driver = webdriver.Chrome(path)\n"
     ]
    }
   ],
   "source": [
    "path = '/Downloads/chromedriver.exe'\n",
    "driver = webdriver.Chrome(path)\n",
    "driver.get('https://www.linkedin.com')"
   ]
  },
  {
   "cell_type": "code",
   "execution_count": 219,
   "id": "e06c2abd",
   "metadata": {},
   "outputs": [],
   "source": [
    "username = driver.find_element(By.ID,'session_key')\n",
    "username.send_keys('youremailaddress')\n",
    "password = driver.find_element(By.ID,'session_password')\n",
    "password.send_keys('yourpassword')"
   ]
  },
  {
   "cell_type": "code",
   "execution_count": 220,
   "id": "51d3b01b",
   "metadata": {},
   "outputs": [],
   "source": [
    "login_button = driver.find_element(By.CLASS_NAME,'sign-in-form__submit-button')\n",
    "login_button.click()"
   ]
  },
  {
   "cell_type": "code",
   "execution_count": 221,
   "id": "50bae0a3",
   "metadata": {},
   "outputs": [],
   "source": [
    "driver.get('https://www.linkedin.com/jobs/search/?currentJobId=3386920497&distance=25&geoId=102380872&keywords=data%20scientist')"
   ]
  },
  {
   "cell_type": "code",
   "execution_count": 222,
   "id": "4cbc3b49",
   "metadata": {},
   "outputs": [
    {
     "data": {
      "text/plain": [
       "'Data scientist in Boston, Massachusetts, United States\\n35,659 results'"
      ]
     },
     "execution_count": 222,
     "metadata": {},
     "output_type": "execute_result"
    }
   ],
   "source": [
    "jobs_num = driver.find_element(By.CSS_SELECTOR,\"div.jobs-search-results-list__title-heading\").get_attribute(\"innerText\")\n",
    "jobs_num"
   ]
  },
  {
   "cell_type": "code",
   "execution_count": 223,
   "id": "da1654ed",
   "metadata": {},
   "outputs": [],
   "source": [
    "job_titles = []\n",
    "company_names = []"
   ]
  },
  {
   "cell_type": "code",
   "execution_count": 249,
   "id": "f10563c1",
   "metadata": {},
   "outputs": [],
   "source": [
    "job_src = driver.page_source\n",
    "soup = BeautifulSoup(job_src, 'lxml')  "
   ]
  },
  {
   "cell_type": "code",
   "execution_count": 250,
   "id": "34828762",
   "metadata": {},
   "outputs": [],
   "source": [
    "jobs_html = soup.find_all('a', {'class': 'job-card-list__title'})\n",
    "  \n",
    "for title in jobs_html:\n",
    "    job_titles.append(title.text.strip())"
   ]
  },
  {
   "cell_type": "code",
   "execution_count": 251,
   "id": "ad740155",
   "metadata": {},
   "outputs": [],
   "source": [
    "company_name_html = soup.find_all('a', {'class': 'job-card-container__company-name'})\n",
    " \n",
    "for name in company_name_html:\n",
    "    company_names.append(name.text.strip())"
   ]
  },
  {
   "cell_type": "code",
   "execution_count": 252,
   "id": "159d950d",
   "metadata": {},
   "outputs": [],
   "source": [
    "df = pd.DataFrame({'Position':job_titles,'Company':company_names})"
   ]
  },
  {
   "cell_type": "code",
   "execution_count": 253,
   "id": "2d002ac6",
   "metadata": {},
   "outputs": [
    {
     "data": {
      "text/html": [
       "<div>\n",
       "<style scoped>\n",
       "    .dataframe tbody tr th:only-of-type {\n",
       "        vertical-align: middle;\n",
       "    }\n",
       "\n",
       "    .dataframe tbody tr th {\n",
       "        vertical-align: top;\n",
       "    }\n",
       "\n",
       "    .dataframe thead th {\n",
       "        text-align: right;\n",
       "    }\n",
       "</style>\n",
       "<table border=\"1\" class=\"dataframe\">\n",
       "  <thead>\n",
       "    <tr style=\"text-align: right;\">\n",
       "      <th></th>\n",
       "      <th>Position</th>\n",
       "      <th>Company</th>\n",
       "    </tr>\n",
       "  </thead>\n",
       "  <tbody>\n",
       "    <tr>\n",
       "      <th>0</th>\n",
       "      <td>Senior Data Scientist, Bots</td>\n",
       "      <td>C.H. Robinson</td>\n",
       "    </tr>\n",
       "    <tr>\n",
       "      <th>1</th>\n",
       "      <td>Senior Quant Business Analyst</td>\n",
       "      <td>Fidelity Investments</td>\n",
       "    </tr>\n",
       "    <tr>\n",
       "      <th>2</th>\n",
       "      <td>Product Data Scientist, Supplier Services</td>\n",
       "      <td>Xometry</td>\n",
       "    </tr>\n",
       "    <tr>\n",
       "      <th>3</th>\n",
       "      <td>Sr. Specialist, Marketing Analytics</td>\n",
       "      <td>PTC</td>\n",
       "    </tr>\n",
       "    <tr>\n",
       "      <th>4</th>\n",
       "      <td>Data Scientist, Advanced Data Analytics</td>\n",
       "      <td>Fidelity Investments</td>\n",
       "    </tr>\n",
       "    <tr>\n",
       "      <th>...</th>\n",
       "      <td>...</td>\n",
       "      <td>...</td>\n",
       "    </tr>\n",
       "    <tr>\n",
       "      <th>127</th>\n",
       "      <td>Business Analyst (100% Remote in Baltimore, MD...</td>\n",
       "      <td>The Mom Project</td>\n",
       "    </tr>\n",
       "    <tr>\n",
       "      <th>128</th>\n",
       "      <td>Associate Analyst, Data Analytics and Insights</td>\n",
       "      <td>Fidelity Investments</td>\n",
       "    </tr>\n",
       "    <tr>\n",
       "      <th>129</th>\n",
       "      <td>Principal Data Scientist</td>\n",
       "      <td>Nirrin Technologies</td>\n",
       "    </tr>\n",
       "    <tr>\n",
       "      <th>130</th>\n",
       "      <td>Senior Product Analyst</td>\n",
       "      <td>WHOOP</td>\n",
       "    </tr>\n",
       "    <tr>\n",
       "      <th>131</th>\n",
       "      <td>Sr. Associate, Risk Modeling</td>\n",
       "      <td>Santander Bank, N.A.</td>\n",
       "    </tr>\n",
       "  </tbody>\n",
       "</table>\n",
       "<p>132 rows × 2 columns</p>\n",
       "</div>"
      ],
      "text/plain": [
       "                                              Position               Company\n",
       "0                          Senior Data Scientist, Bots         C.H. Robinson\n",
       "1                        Senior Quant Business Analyst  Fidelity Investments\n",
       "2            Product Data Scientist, Supplier Services               Xometry\n",
       "3                  Sr. Specialist, Marketing Analytics                   PTC\n",
       "4              Data Scientist, Advanced Data Analytics  Fidelity Investments\n",
       "..                                                 ...                   ...\n",
       "127  Business Analyst (100% Remote in Baltimore, MD...       The Mom Project\n",
       "128     Associate Analyst, Data Analytics and Insights  Fidelity Investments\n",
       "129                           Principal Data Scientist   Nirrin Technologies\n",
       "130                             Senior Product Analyst                 WHOOP\n",
       "131                       Sr. Associate, Risk Modeling  Santander Bank, N.A.\n",
       "\n",
       "[132 rows x 2 columns]"
      ]
     },
     "execution_count": 253,
     "metadata": {},
     "output_type": "execute_result"
    }
   ],
   "source": [
    "df"
   ]
  },
  {
   "cell_type": "code",
   "execution_count": 254,
   "id": "84fde057",
   "metadata": {},
   "outputs": [],
   "source": [
    "df.to_csv('/Downloads/LinkedIn_JOB.csv') "
   ]
  }
 ],
 "metadata": {
  "kernelspec": {
   "display_name": "Python 3",
   "language": "python",
   "name": "python3"
  },
  "language_info": {
   "codemirror_mode": {
    "name": "ipython",
    "version": 3
   },
   "file_extension": ".py",
   "mimetype": "text/x-python",
   "name": "python",
   "nbconvert_exporter": "python",
   "pygments_lexer": "ipython3",
   "version": "3.8.8"
  }
 },
 "nbformat": 4,
 "nbformat_minor": 5
}
